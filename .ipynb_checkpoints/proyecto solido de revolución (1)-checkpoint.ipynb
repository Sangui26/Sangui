{
 "cells": [
  {
   "cell_type": "markdown",
   "metadata": {},
   "source": [
    "# PROYECTO SÓLIDO EN REVOLUCIÓN \n",
    "##### - INVOLUCRA MÁXIMOS Y MÍNIMOS DE UNA FUNCIÓN\n",
    "##### - AJUSTE DE CURVAS \n",
    "##### - ENCONTRAR DATOS OCULTOS\n",
    "##### - UTILIZAR LAS FÓRMULAS PARA SÓLIDOS DE REVOLUCIÓN "
   ]
  },
  {
   "cell_type": "code",
   "execution_count": 18,
   "metadata": {},
   "outputs": [],
   "source": [
    "#IMPORTANDO LIBRERÍAS\n",
    "import numpy as np \n",
    "\n",
    "import sympy as sym\n",
    "import matplotlib.pyplot as plt \n",
    "%matplotlib inline \n",
    "sym.init_printing(use_latex='mathjax')"
   ]
  },
  {
   "cell_type": "markdown",
   "metadata": {},
   "source": [
    "### Se tienen estos puntos para encontrar un perfil de una figura a moldear en un torno.\n",
    "\n",
    "| PUNTOS   |    X     |    Y     |\n",
    "| :------- | :------: | -------: |\n",
    "| P0       |  0       | 0.164105 |\n",
    "| P1       |  3       | 1.203    |\n",
    "| P2       | 6.02564  | 0.5618   |\n",
    "| P3       | 7.62     | 0.85     |"
   ]
  },
  {
   "cell_type": "markdown",
   "metadata": {},
   "source": [
    "# Problema 1 \n",
    "### Encontrar una función en base a los puntos de la tabla anterior\n"
   ]
  },
  {
   "cell_type": "code",
   "execution_count": 54,
   "metadata": {},
   "outputs": [],
   "source": [
    "#ajuste de curvas\n",
    "from matplotlib import pyplot, image, transforms\n",
    "from scipy.interpolate import CubicSpline, interp1d, lagrange\n",
    "%matplotlib inline"
   ]
  },
  {
   "cell_type": "code",
   "execution_count": 55,
   "metadata": {},
   "outputs": [
    {
     "name": "stdout",
     "output_type": "stream",
     "text": [
      "[0.      3.      6.02564 7.62   ]\n",
      "4\n"
     ]
    }
   ],
   "source": [
    "#x = np.loadtxt('Engranexy.txt', usecols=0)   \n",
    "#fx = np.loadtxt('Engranexy.txt', usecols=1)\n",
    "x = np.loadtxt('C:/Users/shang/Downloads/Engranexy.txt', usecols=0)   \n",
    "fx = np.loadtxt('C:/Users/shang/Downloads/Engranexy.txt', usecols=1) \n",
    "n = len(x)\n",
    "a = fx\n",
    "print (x)\n",
    "print(n)"
   ]
  },
  {
   "cell_type": "code",
   "execution_count": 56,
   "metadata": {},
   "outputs": [],
   "source": [
    "#Obtención de los coeficientes c, b y d\n",
    "h = x[1:n] - x[0:(n-1)]\n",
    "alpha = np.zeros(n)\n",
    "for i in range(1, n-1):\n",
    "    alpha[i] = (3 / h[i]) * (a[i+1] - a[i]) - (3 / h[i-1]) * (a[i] - a[i-1])\n",
    "l, m, z = np.zeros(n), np.zeros(n), np.zeros(n)\n",
    "for i in range(1, n-1):\n",
    "    l[i] = 2 * (x[i+1] - x[i-1]) - h[i-1]*m[i-1]\n",
    "    m[i] = h[i] / l[i]\n",
    "    z[i] = (alpha[i] - h[i-1]*z[i-1]) / l[i]\n",
    "l[n-1] = 1\n",
    "c, b, d = np.zeros(n), np.zeros(n), np.zeros(n)\n",
    "for j in range(n-2, -1, -1):\n",
    "    c[j] = z[j] - m[j] * c[j+1]\n",
    "    b[j] = (a[j+1] - a[j]) / h[j] - h[j] * (c[j+1] + 2*c[j]) / 3\n",
    "    d[j] = (c[j+1] - c[j]) / (3 * h[j])"
   ]
  },
  {
   "cell_type": "code",
   "execution_count": 57,
   "metadata": {},
   "outputs": [],
   "source": [
    "#Agrupamiento de Sj\n",
    "S, X = [], []\n",
    "for i in range(n-1):\n",
    "    xx = np.linspace(x[i], x[i+1], 10) #arreglo del conjunto de divisiones de cada intervalo\n",
    "    Sj = a[i] + b[i]*(xx-x[i]) + c[i]*(xx - x[i]) ** 2 + d[i]*((xx - x[i])**3) #resultado para cada Sj(xx)\n",
    "    S.append(Sj.tolist())\n",
    "    X.append(xx.tolist())\n",
    "S = np.asarray(S).ravel() #Reacomodo matriz nxm a vector 1x(nm)\n",
    "X = np.asarray(X).ravel()"
   ]
  },
  {
   "cell_type": "code",
   "execution_count": 58,
   "metadata": {},
   "outputs": [],
   "source": [
    "#Funcion Predeterminada\n",
    "cs = CubicSpline(x, fx)  #Funcion predeterminada para Trazadores Cúbicos\n",
    "f = interp1d(x, fx)      #Funcion predeterminada para interpolación\n",
    "f2 = interp1d(x, fx, kind='cubic') #Funcion predeterminada para interpolación cúbica\n",
    "fL = lagrange(x, fx)  #Funcion predeterminada para interpolación Lagrange"
   ]
  },
  {
   "cell_type": "code",
   "execution_count": 59,
   "metadata": {},
   "outputs": [],
   "source": [
    "#Interpolación de Lagrange\n",
    "Fy = np.zeros(len(X))\n",
    "for q in range(len(X)): #evaluacion del polinomio en cada valor del vector X\n",
    "    fy = 0\n",
    "    for k in range (n): #Obtención de coeficientes y evaluación de la productoria. \n",
    "        t=1\n",
    "        for j in range (n):\n",
    "            if j != k:\n",
    "                t=t* ( (X[q]-x[j]) /(x[k]-x[j]) )\n",
    "        fy+= t*fx[k]\n",
    "    Fy[q] = fy #Resultado del polinomio para la variable X[q]"
   ]
  },
  {
   "cell_type": "code",
   "execution_count": 62,
   "metadata": {},
   "outputs": [
    {
     "data": {
      "image/png": "[encoded data removed]",
      "text/plain": [
       "<Figure size 1080x360 with 1 Axes>"
      ]
     },
     "metadata": {
      "needs_background": "light"
     },
     "output_type": "display_data"
    }
   ],
   "source": [
    "\n",
    "plt.figure(figsize = (15, 5))\n",
    "plt.plot(X, Fy, 'r--', linewidth = 3.0, label = 'Figura') \n",
    "plt.plot(X, S, 'g-', linewidth = 3.0, label = 'Trazadores Cúbicos')\n",
    "plt.plot(x, fx, 'bo', label = 'Puntos')\n",
    "plt.legend(loc='best')\n",
    "plt.xlim(0, 10)\n",
    "plt.ylim(0,3 )\n",
    "plt.grid()\n",
    "plt.savefig('Figura.png')\n",
    "plt.show()\n"
   ]
  },
  {
   "cell_type": "markdown",
   "metadata": {},
   "source": [
    "###### Resolviendo la matriz se encuentra la función graficada  donde X, Y  son valores obtenidos de la tabla\n",
    "$$\\mathbf{j} = \\left[\\begin{array}\n",
    "{rrr}\n",
    "X0^3 & X0^2 & X0 &  1  \\\\\n",
    "X1^3 & X1^2 & X1 &  1  \\\\\n",
    "X2^3 & X2^2 & X2 &  1  \\\\\n",
    "X3^3 & X3^2 & X3 &  1  \n",
    "\\end{array}\\right]\n",
    "$$\n",
    "\n",
    "$$\\mathbf{k} = \\left[\\begin{array}\n",
    "{rrr}\n",
    "a \\\\\n",
    "b \\\\\n",
    "c \\\\\n",
    "d \n",
    "\\end{array}\\right]\n",
    "$$\n",
    "\n",
    "\n",
    "$$\\mathbf{m} = \\left[\\begin{array}\n",
    "{rrr}\n",
    "Y0 \\\\\n",
    "Y1 \\\\\n",
    "Y2 \\\\\n",
    "Y3 \n",
    "\\end{array}\\right]\n",
    "$$\n",
    "###### *Resolvimos la operación de matrices\n",
    "**$$ (j)x(k)=(m)$$**\n",
    "###### *Sustituimos la matriz k*\n",
    "$$f(x)=ax^3+bx^2+cx+d$$\n"
   ]
  },
  {
   "cell_type": "markdown",
   "metadata": {},
   "source": [
    "# Problema 2  \n",
    "#### *Se quiere moldear una figura en un torno, partiendo de un prisma rectangular. Si se conoce que el perfil de la figura es*:$$f(x)=0.023x^3-0.30288x^2+1.04509x+0.165405$$\n",
    "1. Encuentra las dimensiones del prisma rectangular para que se gaste el menor material posible, se sabe que el largo de la figura es de 7.62 cm\n",
    "\n",
    "2. Determine el volumen de la figura y del prisma rectangular\n"
   ]
  },
  {
   "cell_type": "code",
   "execution_count": 26,
   "metadata": {},
   "outputs": [
    {
     "data": {
      "text/latex": [
       "$$0.0699 x^{2} - 0.60576 x + 1.04509$$"
      ],
      "text/plain": [
       "        2                      \n",
       "0.0699⋅x  - 0.60576⋅x + 1.04509"
      ]
     },
     "execution_count": 26,
     "metadata": {},
     "output_type": "execute_result"
    }
   ],
   "source": [
    "#DEFINIENDO LA FUNCIÓN\n",
    "def f1(x):\n",
    "    return ((0.0233*x**3)-(0.30288*x**2)+(1.04509*x)+(0.164105))\n",
    "sym.var(\"x\", real = True)\n",
    "df1=sym.diff(f1(x),x)\n",
    "df1"
   ]
  },
  {
   "cell_type": "code",
   "execution_count": 27,
   "metadata": {},
   "outputs": [
    {
     "data": {
      "text/latex": [
       "$$0.0699 x^{2} - 0.60576 x + 1.04509$$"
      ],
      "text/plain": [
       "        2                      \n",
       "0.0699⋅x  - 0.60576⋅x + 1.04509"
      ]
     },
     "execution_count": 27,
     "metadata": {},
     "output_type": "execute_result"
    }
   ],
   "source": [
    "#RESOLVIENDO DERIVADA \n",
    "df1=sym.diff(f1(x),x)\n",
    "df1"
   ]
  },
  {
   "cell_type": "code",
   "execution_count": 28,
   "metadata": {},
   "outputs": [
    {
     "data": {
      "text/latex": [
       "$$\\left [ 2.37752116756858, \\quad 6.28857325303228\\right ]$$"
      ],
      "text/plain": [
       "[2.37752116756858, 6.28857325303228]"
      ]
     },
     "execution_count": 28,
     "metadata": {},
     "output_type": "execute_result"
    }
   ],
   "source": [
    "#ENCONTRANDO MÁXIMOS Y MÍNIMOS DE LA FUNCIÓN\n",
    "c1=sym.solve(df1,x)\n",
    "c1"
   ]
  },
  {
   "cell_type": "code",
   "execution_count": 29,
   "metadata": {},
   "outputs": [
    {
     "data": {
      "image/png": "[encoded data removed]",
      "text/plain": [
       "<Figure size 576x432 with 1 Axes>"
      ]
     },
     "metadata": {
      "needs_background": "light"
     },
     "output_type": "display_data"
    }
   ],
   "source": [
    "#GRÁFICA DEL PUNTO MÁXIMO, ES DECIR LA ALTURA MEDIA DEL PRISMA\n",
    "plt.figure(figsize=(8,6))\n",
    "xnum=np.linspace(0,7.62,100)\n",
    "plt.plot(xnum,f1(xnum))\n",
    "plt.xlabel('$x$')\n",
    "plt.ylabel('$f(x)=(x+1/(x)^2$')\n",
    "plt.plot(c1[0],f1(c1[0]),'*r', ms=20)\n",
    "plt.grid()"
   ]
  },
  {
   "cell_type": "code",
   "execution_count": 30,
   "metadata": {},
   "outputs": [
    {
     "data": {
      "text/latex": [
       "$$1.24990020515968$$"
      ],
      "text/plain": [
       "1.24990020515968"
      ]
     },
     "execution_count": 30,
     "metadata": {},
     "output_type": "execute_result"
    }
   ],
   "source": [
    "#ENCONTRANDO H MEDIA\n",
    "h_media=f1(c1[0])\n",
    "h_media\n"
   ]
  },
  {
   "cell_type": "code",
   "execution_count": 31,
   "metadata": {},
   "outputs": [
    {
     "data": {
      "text/latex": [
       "$$2.49980041031937$$"
      ],
      "text/plain": [
       "2.49980041031937"
      ]
     },
     "execution_count": 31,
     "metadata": {},
     "output_type": "execute_result"
    }
   ],
   "source": [
    "#ENCONTRANDO ALTURA REAL, ADEMÁS DEL ANCHO REAL\n",
    "h=2*f1(c1[0])\n",
    "h"
   ]
  },
  {
   "cell_type": "markdown",
   "metadata": {},
   "source": [
    "**R1=** Las dimensiones del prisma son las siguientes:\n",
    "- 7.62 cm de base\n",
    "- 2.4998...cm de ancho\n",
    "- 2.4998... cm de altura\n",
    "\n",
    "*Por lo tanto la altura y el ancho de la figura son de la misma dimensión*"
   ]
  },
  {
   "cell_type": "markdown",
   "metadata": {},
   "source": [
    "El volumen del prisma está dado por la siguiente fórmula:\n",
    "$$v=(h^2)(b)$$\n",
    "\n",
    "*h= comprende el valor de la altura y el ancho de la figura*\n",
    "\n",
    "*b= longuitud del prisma*"
   ]
  },
  {
   "cell_type": "code",
   "execution_count": 32,
   "metadata": {},
   "outputs": [
    {
     "data": {
      "text/latex": [
       "$$47.6173959367186$$"
      ],
      "text/plain": [
       "47.6173959367186"
      ]
     },
     "execution_count": 32,
     "metadata": {},
     "output_type": "execute_result"
    }
   ],
   "source": [
    "#DETERMINANDO EL VOLUMEN DE LA FIGURA\n",
    "b=7.62\n",
    "volumen_prisma=(h**2)*b\n",
    "volumen_prisma"
   ]
  },
  {
   "cell_type": "markdown",
   "metadata": {},
   "source": [
    "**R2=** El volumen del prisma es:\n",
    "$$v=47.61739...cm^3$$"
   ]
  },
  {
   "cell_type": "markdown",
   "metadata": {},
   "source": [
    "El volumen de la figura está determinando por la siguiente fórmula:\n",
    "$$V= \\pi \\int_0^{7.62}  (0.023x^3-0.30288x^2+1.04509x+0.165405)^2$$\n"
   ]
  },
  {
   "cell_type": "code",
   "execution_count": 51,
   "metadata": {},
   "outputs": [
    {
     "data": {
      "text/latex": [
       "$$\\left ( 7.75557142857143 \\cdot 10^{-5} x^{7} - 0.002352368 x^{6} + 0.02808749768 x^{5} - 0.15635660635 x^{4} + 0.330934954433333 x^{3} + 0.17150449445 x^{2} + 0.026930451025 x\\right )$$"
      ],
      "text/plain": [
       "⎛                     7                6                  5                  4\n",
       "⎝7.75557142857143e-5⋅x  - 0.002352368⋅x  + 0.02808749768⋅x  - 0.15635660635⋅x \n",
       "\n",
       "                      3                  2                    ⎞\n",
       " + 0.330934954433333⋅x  + 0.17150449445⋅x  + 0.026930451025⋅x,⎠"
      ]
     },
     "execution_count": 51,
     "metadata": {},
     "output_type": "execute_result"
    }
   ],
   "source": [
    "#ECONTRANDO LA INTEGRAL DE LA FUNCIÓN\n",
    "def f2(x):\n",
    "    return ((0.0233*x**3)-(0.30288*x**2)+(1.04509*x)+(0.164105))**2\n",
    "sym.var(\"x\", real = True)\n",
    "integral=sym.integrate(f2(x),x),\n",
    "integral"
   ]
  },
  {
   "cell_type": "markdown",
   "metadata": {},
   "source": [
    "**R2=** *Evaluamos la integral con 7.62 que es la longuitud de la figura*\n",
    "$$(\\pi) V(7.62)=(0.023x^3-0.30288x^2+1.04509x+0.165405)^2$$\n",
    "$$ V(7.62)=6.21(\\pi)$$\n",
    "$$ V=19.51 cm^3$$"
   ]
  },
  {
   "cell_type": "code",
   "execution_count": null,
   "metadata": {},
   "outputs": [],
   "source": []
  }
 ],
 "metadata": {
  "kernelspec": {
   "display_name": "Python 3",
   "language": "python",
   "name": "python3"
  },
  "language_info": {
   "codemirror_mode": {
    "name": "ipython",
    "version": 3
   },
   "file_extension": ".py",
   "mimetype": "text/x-python",
   "name": "python",
   "nbconvert_exporter": "python",
   "pygments_lexer": "ipython3",
   "version": "3.7.1"
  }
 },
 "nbformat": 4,
 "nbformat_minor": 2
}
